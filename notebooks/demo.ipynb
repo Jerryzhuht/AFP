{
 "cells": [
  {
   "cell_type": "markdown",
   "metadata": {},
   "source": [
    "# this notebook shows backtestlib.optimizer.BenchMark etc."
   ]
  },
  {
   "cell_type": "code",
   "execution_count": 1,
   "metadata": {},
   "outputs": [],
   "source": [
    "import sys\n",
    "sys.path.insert(0, \"..\")\n",
    "\n",
    "import logging as log\n",
    "log.basicConfig(level = log.INFO, stream=sys.stdout,\\\n",
    "                format='backtest-%(asctime)s-%(funcName)s: %(message)s', \\\n",
    "                datefmt='%Y-%b-%d %H:%M:%S')\n",
    "from  backtestlib.optimizer import BenchMark, SampleBased, SpectralCut, SpectralSelection,ShrinkToIdentity,POET\n",
    "import pandas as pd\n",
    "import numpy as np\n",
    "import numpy.linalg as LA\n",
    "%load_ext autoreload\n",
    "%autoreload 2"
   ]
  },
  {
   "cell_type": "code",
   "execution_count": 2,
   "metadata": {},
   "outputs": [
    {
     "data": {
      "text/plain": [
       "AAPL      1.0\n",
       "GOOGLE    2.0\n",
       "MMM       2.0\n",
       "BAC       1.5\n",
       "GS       -0.2\n",
       "dtype: float64"
      ]
     },
     "execution_count": 2,
     "metadata": {},
     "output_type": "execute_result"
    }
   ],
   "source": [
    "signal = pd.Series(data = [1,2,2,1.5,-.2],index = ['AAPL','GOOGLE','MMM','BAC','GS'])\n",
    "signal"
   ]
  },
  {
   "cell_type": "code",
   "execution_count": 3,
   "metadata": {},
   "outputs": [],
   "source": [
    "c = 0.02\n",
    "r = 0.00\n",
    "n = 50\n",
    "p = len(signal)\n",
    "\n",
    "rand = np.random.RandomState(1233)\n",
    "true_var = np.diag(np.ones(p))*(1-c) + c*np.ones((p,p))\n",
    "true_mu = np.ones(p)*r\n",
    "\n",
    "returns = rand.multivariate_normal(true_mu, true_var, n).T\n",
    "sample_var =(returns@returns.T)/n"
   ]
  },
  {
   "cell_type": "code",
   "execution_count": 4,
   "metadata": {},
   "outputs": [
    {
     "name": "stdout",
     "output_type": "stream",
     "text": [
      "backtest-2021-Feb-22 01:54:59-__init__: BenchMark initialized\n"
     ]
    },
    {
     "data": {
      "text/plain": [
       "array([0.2, 0.2, 0.2, 0.2, 0.2])"
      ]
     },
     "execution_count": 4,
     "metadata": {},
     "output_type": "execute_result"
    }
   ],
   "source": [
    "opt = BenchMark()\n",
    "opt.optimize(signal = signal)"
   ]
  },
  {
   "cell_type": "code",
   "execution_count": 5,
   "metadata": {},
   "outputs": [
    {
     "name": "stdout",
     "output_type": "stream",
     "text": [
      "backtest-2021-Feb-22 01:54:59-__init__: SampleBased initialized\n"
     ]
    },
    {
     "data": {
      "text/plain": [
       "array([ 0.13203564,  0.36667792,  0.40506277,  0.16931761, -0.07309393])"
      ]
     },
     "execution_count": 5,
     "metadata": {},
     "output_type": "execute_result"
    }
   ],
   "source": [
    "opt = SampleBased()\n",
    "opt.optimize(signal = signal,sample_var = sample_var)"
   ]
  },
  {
   "cell_type": "code",
   "execution_count": 6,
   "metadata": {},
   "outputs": [
    {
     "name": "stdout",
     "output_type": "stream",
     "text": [
      "backtest-2021-Feb-22 01:54:59-__init__: SpectralCut initialized with  delta 0.4\n",
      "backtest-2021-Feb-22 01:54:59-optimize: Optimal K is 5\n",
      "backtest-2021-Feb-22 01:54:59-optimize:  return component [-0.56292848  0.56166544 -1.79661716 -0.34753213  2.70352208]\n"
     ]
    },
    {
     "data": {
      "text/plain": [
       "array([ 0.13203564,  0.36667792,  0.40506277,  0.16931761, -0.07309393])"
      ]
     },
     "execution_count": 6,
     "metadata": {},
     "output_type": "execute_result"
    }
   ],
   "source": [
    "opt = SpectralCut(delta = 0.4)\n",
    "opt.optimize(signal = signal,sample_var = sample_var)"
   ]
  },
  {
   "cell_type": "code",
   "execution_count": 7,
   "metadata": {},
   "outputs": [
    {
     "name": "stdout",
     "output_type": "stream",
     "text": [
      "backtest-2021-Feb-22 01:54:59-__init__: ShrinkToIdentity initialized\n",
      "backtest-2021-Feb-22 01:54:59-optimize: shrink coefficients: a 1.708, b 0.3, d 1.734, m 0.858\n"
     ]
    },
    {
     "data": {
      "text/plain": [
       "array([ 0.1141222 ,  0.40128602,  0.42972691,  0.16964652, -0.11478166])"
      ]
     },
     "execution_count": 7,
     "metadata": {},
     "output_type": "execute_result"
    }
   ],
   "source": [
    "opt = ShrinkToIdentity()\n",
    "opt.optimize(signal = signal,returns = returns)"
   ]
  },
  {
   "cell_type": "code",
   "execution_count": 8,
   "metadata": {},
   "outputs": [
    {
     "name": "stdout",
     "output_type": "stream",
     "text": [
      "backtest-2021-Feb-22 01:54:59-__init__: SpectralCut initialized with  delta 0.4, c 10\n",
      "backtest-2021-Feb-22 01:54:59-optimize: Optimal gamma is 0.003\n",
      "backtest-2021-Feb-22 01:54:59-optimize:  return component [-0.56266804  0.55608824 -1.7810237  -0.2796166   1.36131824]\n"
     ]
    },
    {
     "data": {
      "text/plain": [
       "array([ 0.16811186,  0.28152213,  0.30907235,  0.28438214, -0.04308848])"
      ]
     },
     "execution_count": 8,
     "metadata": {},
     "output_type": "execute_result"
    }
   ],
   "source": [
    "opt = SpectralSelection(delta = 0.4, c = 10)\n",
    "opt.optimize(signal = signal,sample_var = sample_var)"
   ]
  },
  {
   "cell_type": "markdown",
   "metadata": {},
   "source": [
    "- To demostrate POET we simulate returns via a factor model of K factors such that K << p~n\n",
    "- K: number of factors, p asset numbers, n time periods"
   ]
  },
  {
   "cell_type": "code",
   "execution_count": 9,
   "metadata": {},
   "outputs": [],
   "source": [
    "c = 0.3\n",
    "n = 200\n",
    "p = 100\n",
    "\n",
    "rand = np.random.RandomState(1234)\n",
    "temp = rand.normal(size = (p,n))\n",
    "temp_u,temp_s,temp_vh =  LA.svd(temp)\n",
    "\n",
    "true_K = 6\n",
    "true_B = temp_u[:,:true_K]@np.diag(temp_s[:true_K])\n",
    "true_F = temp_vh.T[:,:true_K]\n",
    "errors = rand.normal(size = (p,n))*c\n",
    "returns = true_B@true_F.T + errors\n",
    "\n",
    "signal = pd.Series(np.ones(p))"
   ]
  },
  {
   "cell_type": "code",
   "execution_count": 10,
   "metadata": {},
   "outputs": [
    {
     "name": "stdout",
     "output_type": "stream",
     "text": [
      "backtest-2021-Feb-22 01:54:59-__init__: ShrinkToIdentity initialized\n",
      "backtest-2021-Feb-22 01:54:59-optimize: Optimal K is 6\n",
      "backtest-2021-Feb-22 01:54:59-optimize: offdiagnal f-norm under C=0.02 is 0.577\n"
     ]
    },
    {
     "data": {
      "text/plain": [
       "array([ 0.01157585, -0.00949097,  0.00741841,  0.014982  ,  0.00874337,\n",
       "        0.01065229,  0.02104509,  0.00414328,  0.02327296,  0.00185187,\n",
       "       -0.00211298,  0.00859463,  0.0073677 ,  0.01502131,  0.00471561,\n",
       "        0.00397781,  0.01855608,  0.00093859,  0.01727918,  0.01309124,\n",
       "        0.01271723,  0.01882545,  0.01830256, -0.00273349,  0.00980433,\n",
       "        0.0288522 ,  0.01564092,  0.02637702, -0.00311143,  0.00986773,\n",
       "        0.00229348,  0.00552057,  0.0039822 ,  0.01607647,  0.00918691,\n",
       "        0.00027285,  0.02131201,  0.02195193,  0.02102599,  0.0155175 ,\n",
       "        0.01333615,  0.01571371,  0.01467245,  0.00398114,  0.01566309,\n",
       "        0.01355034,  0.01217234,  0.01744387, -0.00244282, -0.0076788 ,\n",
       "        0.00111382,  0.00705849,  0.00491745,  0.0070263 ,  0.01941909,\n",
       "        0.01787315,  0.01115552,  0.00205773,  0.00539261,  0.00115094,\n",
       "       -0.00857944,  0.00568472,  0.0094757 , -0.00090542,  0.00525649,\n",
       "        0.00336744,  0.00689343,  0.01238462,  0.0101022 ,  0.01560995,\n",
       "        0.0131048 ,  0.01984721,  0.00714089,  0.01146697,  0.00250584,\n",
       "        0.00138383,  0.00356947,  0.00307418,  0.00633363,  0.00752606,\n",
       "        0.01447743,  0.02290727,  0.01142902,  0.0048004 ,  0.02253619,\n",
       "        0.00877444,  0.01110571,  0.01368205,  0.03211703,  0.01740431,\n",
       "        0.00725979,  0.01594367,  0.00572866,  0.01996823,  0.01309435,\n",
       "        0.01151044,  0.02163101,  0.00099189, -0.00410942,  0.00662267])"
      ]
     },
     "execution_count": 10,
     "metadata": {},
     "output_type": "execute_result"
    }
   ],
   "source": [
    "opt = POET(C = 0.02)\n",
    "opt.optimize(signal = signal,returns = returns)"
   ]
  }
 ],
 "metadata": {
  "kernelspec": {
   "display_name": "Python 3",
   "language": "python",
   "name": "python3"
  },
  "language_info": {
   "codemirror_mode": {
    "name": "ipython",
    "version": 3
   },
   "file_extension": ".py",
   "mimetype": "text/x-python",
   "name": "python",
   "nbconvert_exporter": "python",
   "pygments_lexer": "ipython3",
   "version": "3.8.3"
  }
 },
 "nbformat": 4,
 "nbformat_minor": 2
}
