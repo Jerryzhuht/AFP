{
 "cells": [
  {
   "cell_type": "markdown",
   "metadata": {},
   "source": [
    "# this notebook shows backtestlib.optimizer.BenchMark etc."
   ]
  },
  {
   "cell_type": "code",
   "execution_count": 457,
   "metadata": {},
   "outputs": [
    {
     "name": "stdout",
     "output_type": "stream",
     "text": [
      "The autoreload extension is already loaded. To reload it, use:\n",
      "  %reload_ext autoreload\n"
     ]
    }
   ],
   "source": [
    "import sys\n",
    "sys.path.insert(0, \"..\")\n",
    "from  backtestlib.optimizer import BenchMark, SampleBased, SpectralCut, SpectralSelection\n",
    "import pandas as pd\n",
    "import numpy as np\n",
    "%load_ext autoreload\n",
    "%autoreload 2"
   ]
  },
  {
   "cell_type": "code",
   "execution_count": 458,
   "metadata": {},
   "outputs": [
    {
     "data": {
      "text/plain": [
       "AAPL      1.0\n",
       "GOOGLE    2.0\n",
       "MMM       2.0\n",
       "BAC       1.5\n",
       "GS       -0.2\n",
       "dtype: float64"
      ]
     },
     "execution_count": 458,
     "metadata": {},
     "output_type": "execute_result"
    }
   ],
   "source": [
    "signal = pd.Series(data = [1,2,2,1.5,-.2],index = ['AAPL','GOOGLE','MMM','BAC','GS'])\n",
    "signal"
   ]
  },
  {
   "cell_type": "code",
   "execution_count": 459,
   "metadata": {},
   "outputs": [
    {
     "data": {
      "text/plain": [
       "array([[0.99836044, 0.02513827, 0.02501334, 0.02922495, 0.02358582],\n",
       "       [0.02513827, 0.99719232, 0.01271878, 0.02299442, 0.02249128],\n",
       "       [0.02501334, 0.01271878, 1.01431075, 0.00773109, 0.02301905],\n",
       "       [0.02922495, 0.02299442, 0.00773109, 1.00264873, 0.02367452],\n",
       "       [0.02358582, 0.02249128, 0.02301905, 0.02367452, 1.01409687]])"
      ]
     },
     "execution_count": 459,
     "metadata": {},
     "output_type": "execute_result"
    }
   ],
   "source": [
    "c = 0.02\n",
    "sample_var = np.diag(np.ones(len(signal)))*(1-c) + c*np.ones((len(signal),len(signal)))\n",
    "sample_var += np.random.normal(scale = 1e-2,size = sample_var.shape)\n",
    "sample_var = .5*(sample_var + sample_var.T) \n",
    "sample_var"
   ]
  },
  {
   "cell_type": "code",
   "execution_count": 460,
   "metadata": {},
   "outputs": [
    {
     "name": "stderr",
     "output_type": "stream",
     "text": [
      "INFO:root:BenchMark initialized\n"
     ]
    },
    {
     "data": {
      "text/plain": [
       "array([0.2, 0.2, 0.2, 0.2, 0.2])"
      ]
     },
     "execution_count": 460,
     "metadata": {},
     "output_type": "execute_result"
    }
   ],
   "source": [
    "opt = BenchMark()\n",
    "opt.optimize(signal = signal)"
   ]
  },
  {
   "cell_type": "code",
   "execution_count": 461,
   "metadata": {},
   "outputs": [
    {
     "name": "stderr",
     "output_type": "stream",
     "text": [
      "INFO:root:SampleBased initialized\n"
     ]
    },
    {
     "data": {
      "text/plain": [
       "array([ 0.14993645,  0.33285767,  0.33094079,  0.24429267, -0.05802758])"
      ]
     },
     "execution_count": 461,
     "metadata": {},
     "output_type": "execute_result"
    }
   ],
   "source": [
    "opt = SampleBased()\n",
    "opt.optimize(signal = signal,sample_var = sample_var)"
   ]
  },
  {
   "cell_type": "code",
   "execution_count": 462,
   "metadata": {},
   "outputs": [
    {
     "name": "stderr",
     "output_type": "stream",
     "text": [
      "INFO:root:SpectralCut initialized with  delta 0.2\n",
      "INFO:root:Optimal K is 5\n",
      "INFO:root: return compent [-2.64394582 -0.30107198 -1.64199937 -0.62981829 -1.05644364]\n"
     ]
    },
    {
     "data": {
      "text/plain": [
       "array([ 0.14993645,  0.33285767,  0.33094079,  0.24429267, -0.05802758])"
      ]
     },
     "execution_count": 462,
     "metadata": {},
     "output_type": "execute_result"
    }
   ],
   "source": [
    "opt = SpectralCut(delta = 0.4)\n",
    "opt.optimize(signal = signal,sample_var = sample_var)"
   ]
  },
  {
   "cell_type": "code",
   "execution_count": 463,
   "metadata": {},
   "outputs": [
    {
     "name": "stderr",
     "output_type": "stream",
     "text": [
      "INFO:root:SpectralCut initialized with  delta 0.2, c 10\n",
      "INFO:root:Optimal gamma is 0.275\n",
      "INFO:root: return compent [-2.53057344 -0.03822841 -1.32936763 -0.28148704 -0.66838865]\n"
     ]
    },
    {
     "data": {
      "text/plain": [
       "array([ 0.19528393,  0.28024525,  0.27273908,  0.2630813 , -0.01134955])"
      ]
     },
     "execution_count": 463,
     "metadata": {},
     "output_type": "execute_result"
    }
   ],
   "source": [
    "opt = SpectralSelection(delta = 0.2, c = 10)\n",
    "opt.optimize(signal = signal,sample_var = sample_var)"
   ]
  }
 ],
 "metadata": {
  "kernelspec": {
   "display_name": "Python 3",
   "language": "python",
   "name": "python3"
  },
  "language_info": {
   "codemirror_mode": {
    "name": "ipython",
    "version": 3
   },
   "file_extension": ".py",
   "mimetype": "text/x-python",
   "name": "python",
   "nbconvert_exporter": "python",
   "pygments_lexer": "ipython3",
   "version": "3.8.3"
  }
 },
 "nbformat": 4,
 "nbformat_minor": 2
}
